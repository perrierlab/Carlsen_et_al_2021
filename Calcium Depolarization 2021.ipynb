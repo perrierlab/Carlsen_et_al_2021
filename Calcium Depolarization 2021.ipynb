{
 "cells": [
  {
   "cell_type": "code",
   "execution_count": 1,
   "metadata": {},
   "outputs": [],
   "source": [
    "import os\n",
    "import pandas as pd\n",
    "import numpy as np\n",
    "import matplotlib as mpl\n",
    "import matplotlib.pyplot as plt\n",
    "from scipy import stats\n",
    "from scipy import signal\n",
    "import itertools"
   ]
  },
  {
   "cell_type": "code",
   "execution_count": 2,
   "metadata": {},
   "outputs": [],
   "source": [
    "path='Q:\\\\Neuronal Signaling\\\\Perrier-group\\\\Eva\\\\Spinal astrocytes control tremor\\\\Calcium I\\\\Analysis\\\\Depol\\\\Analysis'\n",
    "os.chdir(path)\n",
    "filename = '20200715 S1 20C For Python.xlsx'\n",
    "#File containing raw flourescence trace from 20 cells (columns) for 6 trials (sheets) (3 control and 3 in the presence of AM281) in 1 slice\n",
    "C20 = ['C1','C2','C3','C4','C5','C6','C7','C8','C9','C10','C11','C12','C13','C14','C15','C16','C17','C18','C19','C20']\n",
    "cells =20\n",
    "trials = 6\n",
    "df = pd.read_excel (filename,sheet_name=1)\n",
    "column_names = C20\n",
    "df.columns = column_names\n",
    "df.head()\n",
    "all_df=[]\n",
    "for i in range(trials):\n",
    "    df = pd.read_excel (filename,sheet_name=i)\n",
    "    df.columns = column_names\n",
    "    all_df.append(df)"
   ]
  },
  {
   "cell_type": "code",
   "execution_count": 3,
   "metadata": {},
   "outputs": [],
   "source": [
    "all_norm = []\n",
    "all_detrend = []\n",
    "for i in range(cells):\n",
    "    for j in range(trials):\n",
    "        baseline=all_df[j].iloc[0:20].mean()\n",
    "        norm_df=(all_df[j]-baseline)/baseline\n",
    "        all_norm.append(norm_df)        \n",
    "        all_detrend.append(signal.detrend(all_norm[j][column_names[i]]))"
   ]
  },
  {
   "cell_type": "code",
   "execution_count": 4,
   "metadata": {},
   "outputs": [],
   "source": [
    "all_cells_R =[]\n",
    "all_cells_AM =[]\n",
    "for i in range(cells):\n",
    "    C_response=np.mean(all_detrend[i*trials:i*trials+2], axis=0)\n",
    "    all_cells_R.append(C_response)\n",
    "    C_AM=np.mean(all_detrend[i*trials+3:i*trials+5], axis=0)\n",
    "    all_cells_AM.append(C_AM)"
   ]
  },
  {
   "cell_type": "code",
   "execution_count": 5,
   "metadata": {},
   "outputs": [
    {
     "name": "stdout",
     "output_type": "stream",
     "text": [
      "0.0331216901192846 0.00687237366600469\n",
      "0.0324358645877554 0.0011720413063361374\n",
      "0.05043123960540684 -0.0057992184278024255\n"
     ]
    }
   ],
   "source": [
    "start=30\n",
    "end=200\n",
    "print(np.trapz(all_cells_R[2][start:end]), np.trapz(all_cells_AM[2][start:end]))\n",
    "print(np.trapz(all_cells_R[5][start:end]), np.trapz(all_cells_AM[5][start:end]))\n",
    "print(np.trapz(all_cells_R[15][start:end]), np.trapz(all_cells_AM[15][start:end]))\n"
   ]
  }
 ],
 "metadata": {
  "kernelspec": {
   "display_name": "Python 3",
   "language": "python",
   "name": "python3"
  },
  "language_info": {
   "codemirror_mode": {
    "name": "ipython",
    "version": 3
   },
   "file_extension": ".py",
   "mimetype": "text/x-python",
   "name": "python",
   "nbconvert_exporter": "python",
   "pygments_lexer": "ipython3",
   "version": "3.8.3"
  }
 },
 "nbformat": 4,
 "nbformat_minor": 4
}
