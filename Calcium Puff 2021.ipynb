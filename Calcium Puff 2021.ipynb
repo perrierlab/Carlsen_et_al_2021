{
 "cells": [
  {
   "cell_type": "code",
   "execution_count": 2,
   "metadata": {},
   "outputs": [],
   "source": [
    "import os\n",
    "import pandas as pd\n",
    "import numpy as np\n",
    "import matplotlib as mpl\n",
    "import matplotlib.pyplot as plt\n",
    "from scipy import stats\n",
    "from scipy import signal\n",
    "import itertools\n",
    "from scipy.signal import find_peaks"
   ]
  },
  {
   "cell_type": "code",
   "execution_count": 14,
   "metadata": {},
   "outputs": [],
   "source": [
    "path='Q:\\\\Neuronal Signaling\\\\Perrier-group\\\\Eva\\\\Spinal astrocytes control tremor\\\\Calcium I\\\\Analysis\\\\Puff 2AG'\n",
    "os.chdir(path)\n",
    "filename = 'Puff 2AG and AM281 for Python.xlsx'\n",
    "cells =6\n",
    "trials = 2\n",
    "df = pd.read_excel (filename,sheet_name=1)\n",
    "C5= ['C1','C2','C3','C4','C5','C6']\n",
    "column_names = C5\n",
    "df.columns = column_names\n",
    "df.head()\n",
    "all_df=df"
   ]
  },
  {
   "cell_type": "code",
   "execution_count": 15,
   "metadata": {},
   "outputs": [],
   "source": [
    "all_df=[]\n",
    "for i in range(trials):\n",
    "    df = pd.read_excel (filename,sheet_name=i)\n",
    "    df.columns = column_names\n",
    "    all_df.append(df)"
   ]
  },
  {
   "cell_type": "code",
   "execution_count": 16,
   "metadata": {},
   "outputs": [],
   "source": [
    "all_norm = []\n",
    "all_detrend = []\n",
    "\n",
    "for i in range(cells):\n",
    "    for j in range(trials):\n",
    "        baseline=all_df[j].iloc[0:20].mean()\n",
    "        norm_df=(all_df[j]-baseline)/baseline\n",
    "        all_norm.append(norm_df)        \n",
    "        all_detrend.append(signal.detrend(all_norm[j][column_names[i]]))"
   ]
  },
  {
   "cell_type": "code",
   "execution_count": 17,
   "metadata": {},
   "outputs": [
    {
     "name": "stdout",
     "output_type": "stream",
     "text": [
      "1.1119007023897887 0.023588251052835015\n",
      "0.08503619808330842 0.00993367769109073\n",
      "0.05173933568925114 -0.03226350451183763\n",
      "0.719117049807799 0.048529733085627746\n",
      "0.0987125825424302 0.029987083813070928\n",
      "0.03331329585944393 0.007621696192624407\n"
     ]
    }
   ],
   "source": [
    "start=20\n",
    "end=170\n",
    "print(np.trapz(all_detrend[0][start:end]), np.trapz(all_detrend[1][start:end]))\n",
    "print(np.trapz(all_detrend[2][start:end]), np.trapz(all_detrend[3][start:end]))\n",
    "print(np.trapz(all_detrend[4][start:end]), np.trapz(all_detrend[5][start:end]))\n",
    "print(np.trapz(all_detrend[6][start:end]), np.trapz(all_detrend[7][start:end]))\n",
    "print(np.trapz(all_detrend[8][start:end]), np.trapz(all_detrend[9][start:end]))\n",
    "print(np.trapz(all_detrend[10][start:end]), np.trapz(all_detrend[11][start:end]))\n"
   ]
  }
 ],
 "metadata": {
  "kernelspec": {
   "display_name": "Python 3",
   "language": "python",
   "name": "python3"
  },
  "language_info": {
   "codemirror_mode": {
    "name": "ipython",
    "version": 3
   },
   "file_extension": ".py",
   "mimetype": "text/x-python",
   "name": "python",
   "nbconvert_exporter": "python",
   "pygments_lexer": "ipython3",
   "version": "3.8.3"
  }
 },
 "nbformat": 4,
 "nbformat_minor": 4
}
